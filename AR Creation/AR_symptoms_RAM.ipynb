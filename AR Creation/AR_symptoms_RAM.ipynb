{
  "nbformat": 4,
  "nbformat_minor": 0,
  "metadata": {
    "colab": {
      "provenance": []
    },
    "kernelspec": {
      "name": "python3",
      "display_name": "Python 3"
    },
    "language_info": {
      "name": "python"
    }
  },
  "cells": [
    {
      "cell_type": "code",
      "source": [
        "admissions = pd.read_csv(\"admissions.csv\", on_bad_lines='skip')  # pandas ≥ 1.3\n"
      ],
      "metadata": {
        "id": "b1Pol-W3Ac8E"
      },
      "execution_count": 15,
      "outputs": []
    },
    {
      "cell_type": "code",
      "source": [
        "with open(\"admissions.csv\") as f:\n",
        "    lines = f.readlines()\n",
        "    print(lines[28694:28700])  # 0-индексация\n"
      ],
      "metadata": {
        "colab": {
          "base_uri": "https://localhost:8080/"
        },
        "id": "RSyZOSwnAkMB",
        "outputId": "0df48549-5e35-4909-d9e2-90c6de5ad22b"
      },
      "execution_count": 17,
      "outputs": [
        {
          "output_type": "stream",
          "name": "stdout",
          "text": [
            "['10550646,21218420,2124-11-07 00:32:00,2124-11-11 13:46:00,,OBSERVATION ADMIT,P045WF,EMERGENCY ROOM,HOME,00,EW EMER.,P71XWZ,EMERGENCY ROOM,DIED,Medicare,English,WIDOWED2,Engle,English,WIDOWED2M93QMB,PHYSICIAN R293QMB0NCY ROOM,HOME,00,EWEnglROOM,DIED,Medi,ELECT4.,P21DYB,WA700,24067e,Engli-04-2450:00,LK-IN/SE-04-2450SICIAN REDURE SITE,,Medicare,E0YD972-06-301te,Engli6,English,WDIRECT EM021glish,WDIRECT EM021gl,2112-04-06 15:59:00,2112-04-06 17:15:00,0\\n', '7,DIED,Med5:59:00,ED,BLAALTH CARE,M3-IN/SELF4BSERVATI125-07-07 08:34:00,0\\n', '10550646e,EnglINGLE,WHITE,2168-09-03 17:44:00,2168-09-03 18:31:00,0IED,WHITE,,,0\\n', '1055IAN REF150641,22663e,English,WIDME,M80,2English6-10-E-04-245A3:37:001OYKILLED NURSING FACILITY,SKILLED NURSING FACED,WHITE,,,0\\n', '1055IAN REF150L,HO4259852AN REF2W8,PHYSICIAN2AN RE-28 1735SXX,PH-12 11:4583134-01-07 15:31:00,0\\n', '10549659,20114661,2123-12-08 00:53:00,2123-122 21:21:0141-06-70,206h6-10-,2146-0N2AN RE-2810-,212Y ROOM,SKIL 08:34:00,0\\n']\n"
          ]
        }
      ]
    },
    {
      "cell_type": "code",
      "source": [
        "import pandas as pd\n",
        "\n",
        "# Прочитать admissions.csv, пропуская строки с ошибками\n",
        "admissions = pd.read_csv(\"admissions.csv\", on_bad_lines='skip')\n",
        "\n",
        "# Пересохранить \"чистую\" версию\n",
        "admissions.to_csv(\"admissions_clean.csv\", index=False)\n",
        "\n",
        "print(\"✅ admissions_clean.csv создан без битых строк.\")\n"
      ],
      "metadata": {
        "colab": {
          "base_uri": "https://localhost:8080/"
        },
        "id": "Itxpi_DLAmwp",
        "outputId": "2a10d60a-88bb-43ce-850b-43e292ede180"
      },
      "execution_count": 18,
      "outputs": [
        {
          "output_type": "stream",
          "name": "stdout",
          "text": [
            "✅ admissions_clean.csv создан без битых строк.\n"
          ]
        }
      ]
    },
    {
      "cell_type": "code",
      "source": [
        "import pandas as pd\n",
        "import numpy as np\n",
        "import os\n",
        "from mlxtend.frequent_patterns import fpgrowth, association_rules\n",
        "patients = pd.read_csv('patients.csv')\n",
        "admissions = pd.read_csv('admissions.csv')\n",
        "diagnoses = pd.read_csv('diagnoses_icd.csv')\n",
        "d_icd_diagnoses = pd.read_csv('d_icd_diagnoses.csv')\n",
        "d_icd_procedures = pd.read_csv('d_icd_procedures.csv')\n",
        "procedures = pd.read_csv('procedures_icd.csv')\n",
        "symptoms = pd.read_csv('Notes.csv')\n",
        "\n",
        "admissions['hadm_id'] = pd.to_numeric(admissions['hadm_id'], errors='coerce')\n",
        "admissions['subject_id'] = pd.to_numeric(admissions['subject_id'], errors='coerce')\n",
        "admissions.dropna(subset=['hadm_id', 'subject_id'], inplace=True)\n",
        "admissions = admissions.astype({'hadm_id':'int32', 'subject_id':'int32'})\n",
        "\n",
        "sample_fraction = 0.01\n",
        "admissions = admissions.sample(frac=sample_fraction, random_state=42)\n",
        "sampled_subject_ids = set(admissions['subject_id'])\n",
        "sampled_hadm_ids = set(admissions['hadm_id'])\n",
        "\n",
        "\n",
        "patients = patients[patients['subject_id'].isin(sampled_subject_ids)]\n",
        "diagnoses = diagnoses[diagnoses['hadm_id'].isin(sampled_hadm_ids)]\n",
        "procedures = procedures[procedures['hadm_id'].isin(sampled_hadm_ids)]\n",
        "symptoms = symptoms[symptoms['hadm_id'].isin(sampled_hadm_ids)]\n",
        "\n",
        "diagnoses_desc = diagnoses.merge(d_icd_diagnoses, on=['icd_code', 'icd_version'], how='left')\n",
        "diagnoses_desc['long_title'].fillna('Unknown_Diagnosis', inplace=True)\n",
        "\n",
        "procedures_desc = procedures.merge(d_icd_procedures, on=['icd_code', 'icd_version'], how='left')\n",
        "procedures_desc['long_title'].fillna('Unknown_Procedure', inplace=True)\n",
        "\n",
        "transactions_base = admissions[['hadm_id', 'subject_id']].merge(\n",
        "    patients[['subject_id', 'anchor_age', 'gender']], on='subject_id', how='left')\n",
        "\n",
        "primary_diag = diagnoses_desc[diagnoses_desc['seq_num'] == 1][['hadm_id', 'long_title']]\n",
        "transactions_base = transactions_base.merge(primary_diag, on='hadm_id', how='left').rename(columns={'long_title': 'primary_diagnosis'})\n",
        "\n",
        "symptoms = symptoms[['hadm_id', 'Symptoms']].fillna('No_Symptom')\n",
        "transactions_base = transactions_base.merge(symptoms, on='hadm_id', how='left').fillna({'Symptoms':'No_Symptom'})\n",
        "\n",
        "#ranging symptoms\n",
        "top_symptoms = transactions_base['Symptoms'].value_counts().nlargest(50).index\n",
        "transactions_base['Symptoms'] = transactions_base['Symptoms'].where(transactions_base['Symptoms'].isin(top_symptoms), 'Other')\n",
        "\n",
        "top_procedures = procedures_desc['long_title'].value_counts().nlargest(100).index\n",
        "procedures_desc['long_title'] = procedures_desc['long_title'].where(procedures_desc['long_title'].isin(top_procedures), 'Other_Procedure')\n",
        "\n",
        "top_diagnoses = transactions_base['primary_diagnosis'].value_counts().nlargest(100).index\n",
        "transactions_base['primary_diagnosis'] = transactions_base['primary_diagnosis'].where(transactions_base['primary_diagnosis'].isin(top_diagnoses), 'Other_Diagnosis')\n",
        "\n",
        "def memory_efficient_dummies(df, col, prefix):\n",
        "    return pd.get_dummies(df[col], prefix=prefix, dtype='uint8')\n",
        "\n",
        "demographic_dummies = memory_efficient_dummies(transactions_base, 'gender', 'Gender')\n",
        "symptom_dummies = memory_efficient_dummies(transactions_base, 'Symptoms', 'Symptom')\n",
        "diagnosis_dummies = memory_efficient_dummies(transactions_base, 'primary_diagnosis', 'Diagnosis')\n",
        "\n",
        "procedure_dummies = pd.get_dummies(procedures_desc[['hadm_id', 'long_title']],\n",
        "                                   columns=['long_title'], prefix='Procedure', dtype='uint8').groupby('hadm_id').max()\n",
        "transactions_matrix = pd.concat([\n",
        "    demographic_dummies.set_index(transactions_base['hadm_id']),\n",
        "    symptom_dummies.set_index(transactions_base['hadm_id']),\n",
        "    procedure_dummies,\n",
        "    diagnosis_dummies.set_index(transactions_base['hadm_id'])\n",
        "], axis=1).fillna(0).astype('uint8')\n",
        "\n",
        "os.makedirs('output', exist_ok=True)\n",
        "transactions_matrix.to_csv('output/transactions_matrix.csv')\n",
        "detailed_matrix = transactions_base[['hadm_id', 'subject_id', 'anchor_age', 'gender', 'primary_diagnosis', 'Symptoms']].copy()\n",
        "procedure_mapping = procedures_desc.groupby('hadm_id')['long_title'].apply(list).to_dict()\n",
        "detailed_matrix['Procedures'] = detailed_matrix['hadm_id'].map(procedure_mapping)\n",
        "detailed_matrix.to_csv('output/detailed_transaction_matrix.csv', index=False)\n",
        "frequent_itemsets = fpgrowth(transactions_matrix, min_support=0.01, use_colnames=True)\n",
        "rules = association_rules(frequent_itemsets, metric='confidence', min_threshold=0.5)\n",
        "rules.to_csv('output/association_rules.csv', index=False)\n"
      ],
      "metadata": {
        "colab": {
          "base_uri": "https://localhost:8080/"
        },
        "id": "1l1XGmWHJYsZ",
        "outputId": "676fbcad-e5a7-4b50-8b23-47dfcc79f308"
      },
      "execution_count": 4,
      "outputs": [
        {
          "output_type": "stream",
          "name": "stderr",
          "text": [
            "<ipython-input-4-b905d6dfd1fa>:30: FutureWarning: A value is trying to be set on a copy of a DataFrame or Series through chained assignment using an inplace method.\n",
            "The behavior will change in pandas 3.0. This inplace method will never work because the intermediate object on which we are setting values always behaves as a copy.\n",
            "\n",
            "For example, when doing 'df[col].method(value, inplace=True)', try using 'df.method({col: value}, inplace=True)' or df[col] = df[col].method(value) instead, to perform the operation inplace on the original object.\n",
            "\n",
            "\n",
            "  diagnoses_desc['long_title'].fillna('Unknown_Diagnosis', inplace=True)\n",
            "<ipython-input-4-b905d6dfd1fa>:33: FutureWarning: A value is trying to be set on a copy of a DataFrame or Series through chained assignment using an inplace method.\n",
            "The behavior will change in pandas 3.0. This inplace method will never work because the intermediate object on which we are setting values always behaves as a copy.\n",
            "\n",
            "For example, when doing 'df[col].method(value, inplace=True)', try using 'df.method({col: value}, inplace=True)' or df[col] = df[col].method(value) instead, to perform the operation inplace on the original object.\n",
            "\n",
            "\n",
            "  procedures_desc['long_title'].fillna('Unknown_Procedure', inplace=True)\n",
            "/usr/local/lib/python3.11/dist-packages/mlxtend/frequent_patterns/fpcommon.py:161: DeprecationWarning: DataFrames with non-bool types result in worse computationalperformance and their support might be discontinued in the future.Please use a DataFrame with bool type\n",
            "  warnings.warn(\n"
          ]
        }
      ]
    },
    {
      "cell_type": "code",
      "source": [
        "#filtering\n",
        "diagnosis_cols = [col for col in transactions_matrix.columns if col.startswith('Diagnosis_')]\n",
        "\n",
        "rules['consequents'] = rules['consequents'].apply(lambda x: set(x))\n",
        "rules['antecedents'] = rules['antecedents'].apply(lambda x: set(x))\n",
        "\n",
        "filtered_rules = rules[rules['consequents'].apply(lambda cons: all(c in diagnosis_cols for c in cons))]\n",
        "\n",
        "filtered_rules.to_csv('output/diagnosis_consequents_rules.csv', index=False)\n",
        "\n"
      ],
      "metadata": {
        "colab": {
          "base_uri": "https://localhost:8080/"
        },
        "id": "8t_Yr08XJzQ1",
        "outputId": "609403d2-44b2-4f79-b0a8-e9db101769ff"
      },
      "execution_count": 5,
      "outputs": [
        {
          "output_type": "stream",
          "name": "stdout",
          "text": [
            "✅ Отфильтровано правил с диагнозами в consequents: 36\n",
            "📁 Результаты сохранены в 'output/diagnosis_consequents_rules.csv'.\n"
          ]
        }
      ]
    }
  ]
}