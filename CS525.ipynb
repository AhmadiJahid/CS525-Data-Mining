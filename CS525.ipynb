{
  "cells": [
    {
      "cell_type": "markdown",
      "metadata": {
        "id": "view-in-github",
        "colab_type": "text"
      },
      "source": [
        "<a href=\"https://colab.research.google.com/github/AhmadiJahid/CS525-Data-Mining/blob/ar/CS525.ipynb\" target=\"_parent\"><img src=\"https://colab.research.google.com/assets/colab-badge.svg\" alt=\"Open In Colab\"/></a>"
      ]
    },
    {
      "cell_type": "code",
      "execution_count": null,
      "metadata": {
        "colab": {
          "background_save": true
        },
        "id": "XgbHk2DXqSQT"
      },
      "outputs": [],
      "source": [
        "import pandas as pd\n",
        "from mlxtend.frequent_patterns import fpgrowth, association_rules\n",
        "from mlxtend.preprocessing import TransactionEncoder\n",
        "import matplotlib.pyplot as plt\n",
        "import os\n",
        "from datetime import datetime"
      ]
    },
    {
      "cell_type": "code",
      "execution_count": null,
      "metadata": {
        "colab": {
          "background_save": true
        },
        "id": "4DwXTfPL82mr"
      },
      "outputs": [],
      "source": [
        "# Set display options\n",
        "pd.set_option('display.max_columns', None)\n",
        "pd.set_option('display.max_rows', 100)"
      ]
    },
    {
      "cell_type": "code",
      "execution_count": null,
      "metadata": {
        "colab": {
          "background_save": true
        },
        "id": "51NUmosU_cgU"
      },
      "outputs": [],
      "source": [
        "import warnings\n",
        "warnings.filterwarnings('ignore')"
      ]
    },
    {
      "cell_type": "code",
      "execution_count": null,
      "metadata": {
        "colab": {
          "background_save": true
        },
        "id": "NXSjWc_TqT02"
      },
      "outputs": [],
      "source": [
        "# Load LABEVENTS (Lab Test Results)\n",
        "lab_events = pd.read_csv(\"labevents_sample.csv\", usecols=['subject_id', 'hadm_id', 'itemid', 'value', 'flag'])\n",
        "print(f\"Loaded {len(lab_events)} lab events\")\n",
        "\n",
        "# Load D_LABITEMS (Lab Test Names)\n",
        "lab_items = pd.read_csv(\"d_labitems.csv\", usecols=['itemid', 'label'])\n",
        "print(f\"Loaded {len(lab_items)} lab items\")\n",
        "\n",
        "# Load Diagnoses (ICD-9 codes)\n",
        "diagnoses = pd.read_csv(\"diagnoses_icd.csv\", usecols=['subject_id', 'hadm_id', 'icd_code'])\n",
        "print(f\"Loaded {len(diagnoses)} diagnoses\")\n",
        "\n",
        "# Merge LABEVENTS with Lab Names\n",
        "lab_events = lab_events.merge(lab_items, on=\"itemid\", how=\"left\")\n",
        "print(\"\\nSample of lab events with labels:\")\n",
        "print(lab_events.head())\n",
        "\n",
        "# Convert ICD9 codes to strings\n",
        "diagnoses['ICD9_CODE'] = diagnoses['icd_code'].astype(str)"
      ]
    },
    {
      "cell_type": "markdown",
      "metadata": {
        "id": "cn2x7qsXWiVa"
      },
      "source": [
        "#Lab results --> Diagnosis"
      ]
    },
    {
      "cell_type": "code",
      "execution_count": null,
      "metadata": {
        "colab": {
          "base_uri": "https://localhost:8080/"
        },
        "id": "MwuhT1e5qVHk",
        "outputId": "bbda1985-d03f-4acc-a499-2daceba45dd4"
      },
      "outputs": [
        {
          "output_type": "stream",
          "name": "stdout",
          "text": [
            "Remaining lab events after dropping NaN: 96695\n",
            "Number of unique hospital visits with lab results: 1382\n",
            "Number of unique hospital visits with diagnoses: 545497\n",
            "Number of hospital visits with both lab results and diagnoses: 1382\n",
            "50\n",
            "\n",
            "Sample of prepared transactions:\n",
            "      hadm_id                                              Items\n",
            "0  20010003.0  [51221_Hematocrit, 51222_Hemoglobin, 51265_Pla...\n",
            "1  20015927.0  [51221_Hematocrit, 51222_Hemoglobin, 51248_MCH...\n",
            "2  20019162.0  [51221_Hematocrit, 51222_Hemoglobin, 51265_Pla...\n",
            "3  20023045.0  [51221_Hematocrit, 51222_Hemoglobin, 51279_Red...\n",
            "4  20023531.0  [50912_Creatinine, 50931_Glucose, 50970_Phosph...\n"
          ]
        }
      ],
      "source": [
        "# Drop rows with no abnormal flag and hadm_id\n",
        "lab_events = lab_events.dropna(subset=['flag', 'hadm_id'])\n",
        "print(f\"Remaining lab events after dropping NaN: {len(lab_events)}\")\n",
        "\n",
        "# Create lab result identifier combining itemid and label\n",
        "lab_events['lab_result'] = lab_events['itemid'].astype(str) + '_' + lab_events['label'].fillna('')\n",
        "\n",
        "# Group lab results per hospital visit\n",
        "lab_grouped = lab_events.groupby('hadm_id')['lab_result'].apply(list).reset_index()\n",
        "print(f\"Number of unique hospital visits with lab results: {len(lab_grouped)}\")\n",
        "\n",
        "# Group diagnoses per hospital visit\n",
        "diagnoses_grouped = diagnoses.groupby('hadm_id')['ICD9_CODE'].apply(list).reset_index()\n",
        "print(f\"Number of unique hospital visits with diagnoses: {len(diagnoses_grouped)}\")\n",
        "\n",
        "# Merge lab results and diagnoses\n",
        "diagnosis_lab_grouped = lab_grouped.merge(diagnoses_grouped, on=\"hadm_id\", how=\"inner\")\n",
        "print(f\"Number of hospital visits with both lab results and diagnoses: {len(diagnosis_lab_grouped)}\")\n",
        "\n",
        "# Combine Lab Results and Diagnoses into a single list per hospital visit\n",
        "diagnosis_lab_grouped['Items'] = diagnosis_lab_grouped.apply(\n",
        "    lambda row: row['lab_result'] + [f'DIAG_{code}' for code in row['ICD9_CODE']],\n",
        "    axis=1\n",
        ")\n",
        "\n",
        "# diagnosis_lab_grouped['Items'] = diagnosis_lab_grouped['Items'].apply(\n",
        "#             lambda x: x[:50])\n",
        "\n",
        "# Create final transaction dataset\n",
        "lab_diagnosis_transaction = diagnosis_lab_grouped[['hadm_id', 'Items']]\n",
        "\n",
        "# Clean items: remove NaN and convert to strings\n",
        "lab_diagnosis_transaction['Items'] = lab_diagnosis_transaction['Items'].apply(\n",
        "    lambda item_list: [str(item) for item in item_list if pd.notnull(item)]\n",
        ")\n",
        "\n",
        "lab_diagnosis_transaction = lab_diagnosis_transaction.head(50)\n",
        "\n",
        "print(len(lab_diagnosis_transaction))\n",
        "\n",
        "print(\"\\nSample of prepared transactions:\")\n",
        "print(lab_diagnosis_transaction.head())"
      ]
    },
    {
      "cell_type": "code",
      "execution_count": null,
      "metadata": {
        "id": "PxyRnyg2BItJ"
      },
      "outputs": [],
      "source": [
        "min_support=0.01\n",
        "min_confidence=0.1"
      ]
    },
    {
      "cell_type": "code",
      "execution_count": null,
      "metadata": {
        "colab": {
          "base_uri": "https://localhost:8080/"
        },
        "id": "lmSVrRPsrppr",
        "outputId": "ad60f804-2fdc-4115-ff62-226648410f28"
      },
      "outputs": [
        {
          "metadata": {
            "tags": null
          },
          "name": "stdout",
          "output_type": "stream",
          "text": [
            "Number of unique items: 582\n",
            "Number of transactions: 50\n",
            "\n",
            "Running FP-Growth algorithm...\n"
          ]
        }
      ],
      "source": [
        "\"\"\"Run FP-Growth algorithm and generate association rules\"\"\"\n",
        "te = TransactionEncoder()\n",
        "te_ary = te.fit(lab_diagnosis_transaction['Items']).transform(lab_diagnosis_transaction['Items'])\n",
        "df_encoded = pd.DataFrame(te_ary, columns=te.columns_)\n",
        "print(f\"Number of unique items: {len(te.columns_)}\")\n",
        "print(f\"Number of transactions: {len(df_encoded)}\")\n",
        "\n",
        "# Display sample of encoded transactions\n",
        "#print(\"\\nSample of encoded transactions:\")\n",
        "#print(df_encoded.head())\n",
        "\n",
        "print(\"\\nRunning FP-Growth algorithm...\")\n",
        "\n",
        "# Run FP-Growth\n",
        "frequent_itemsets = fpgrowth(df_encoded, min_support=min_support, use_colnames=True)\n",
        "print(f\"\\nFound {len(frequent_itemsets)} frequent itemsets\")\n",
        "\n",
        "# Display top 10 frequent itemsets\n",
        "print(\"\\nTop 10 frequent itemsets:\")\n",
        "print(frequent_itemsets.sort_values('support', ascending=False).head(10))\n",
        "\n",
        "print(\"\\nGenerating association rules...\")\n",
        "print(f\"Minimum confidence: {min_confidence}\")\n",
        "\n",
        "# Generate rules\n",
        "rules = association_rules(frequent_itemsets, metric=\"confidence\", min_threshold=min_confidence)\n",
        "print(f\"\\nGenerated {len(rules)} association rules\")\n",
        "\n",
        "# Sort rules by lift\n",
        "rules = rules.sort_values('lift', ascending=False)\n",
        "\n",
        "# Display top 10 rules\n",
        "print(\"\\nTop 10 association rules by lift:\")\n",
        "print(rules[['antecedents', 'consequents', 'support', 'confidence', 'lift']].head(10))\n"
      ]
    },
    {
      "cell_type": "code",
      "execution_count": null,
      "metadata": {
        "colab": {
          "background_save": true
        },
        "id": "HgHhKmgM8r4k"
      },
      "outputs": [],
      "source": [
        "# Plot support, confidence, and lift for top N rules\n",
        "top_n=20\n",
        "plt.figure(figsize=(15, 5))\n",
        "\n",
        "# Plot support vs confidence\n",
        "plt.subplot(131)\n",
        "plt.scatter(rules['support'].head(top_n), rules['confidence'].head(top_n))\n",
        "plt.xlabel('Support')\n",
        "plt.ylabel('Confidence')\n",
        "plt.title('Support vs Confidence')\n",
        "\n",
        "# Plot support vs lift\n",
        "plt.subplot(132)\n",
        "plt.scatter(rules['support'].head(top_n), rules['lift'].head(top_n))\n",
        "plt.xlabel('Support')\n",
        "plt.ylabel('Lift')\n",
        "plt.title('Support vs Lift')\n",
        "\n",
        "# Plot confidence vs lift\n",
        "plt.subplot(133)\n",
        "plt.scatter(rules['confidence'].head(top_n), rules['lift'].head(top_n))\n",
        "plt.xlabel('Confidence')\n",
        "plt.ylabel('Lift')\n",
        "plt.title('Confidence vs Lift')\n",
        "\n",
        "plt.tight_layout()\n",
        "plt.show()"
      ]
    },
    {
      "cell_type": "code",
      "execution_count": null,
      "metadata": {
        "colab": {
          "background_save": true
        },
        "id": "XNyR1TqU9RIE"
      },
      "outputs": [],
      "source": [
        "from datetime import datetime\n",
        "import os\n",
        "from google.colab import files  # Colab-specific\n",
        "\n",
        "# Define the output directory inside /content\n",
        "output_dir = \"/content/rule_outputs\"\n",
        "\n",
        "if not os.path.exists(output_dir):\n",
        "    os.makedirs(output_dir)\n",
        "    print(f\"Created output directory: {output_dir}\")\n",
        "\n",
        "# Generate timestamp for filenames\n",
        "timestamp = datetime.now().strftime(\"%Y%m%d_%H%M%S\")\n",
        "\n",
        "# File paths\n",
        "all_rules_file = os.path.join(output_dir, f\"all_rules_{timestamp}.csv\")\n",
        "lab_diagnosis_file = os.path.join(output_dir, f\"lab_diagnosis_rules_{timestamp}.csv\")\n",
        "summary_file = os.path.join(output_dir, f\"rules_summary_{timestamp}.txt\")\n",
        "\n",
        "# Save files\n",
        "rules.to_csv(all_rules_file, index=False)\n",
        "lab_diagnosis_rules.to_csv(lab_diagnosis_file, index=False)\n",
        "\n",
        "with open(summary_file, 'w') as f:\n",
        "    f.write(f\"Association Rules Analysis Summary\\n\")\n",
        "    f.write(f\"Generated on: {datetime.now().strftime('%Y-%m-%d %H:%M:%S')}\\n\\n\")\n",
        "    f.write(f\"Total number of rules: {len(rules)}\\n\")\n",
        "    f.write(f\"Number of lab-diagnosis rules: {len(lab_diagnosis_rules)}\\n\\n\")\n",
        "    f.write(f\"Top 10 rules by lift:\\n\")\n",
        "    f.write(rules[['antecedents', 'consequents', 'support', 'confidence', 'lift']].head(10).to_string())\n",
        "    f.write(f\"\\n\\nTop 10 lab-diagnosis rules by lift:\\n\")\n",
        "    f.write(lab_diagnosis_rules[['antecedents', 'consequents', 'support', 'confidence', 'lift']].head(10).to_string())\n",
        "\n",
        "print(\"Files saved! Preparing download links...\")\n",
        "\n",
        "# Download to local machine\n",
        "files.download(all_rules_file)\n",
        "files.download(lab_diagnosis_file)\n",
        "files.download(summary_file)\n"
      ]
    },
    {
      "cell_type": "markdown",
      "metadata": {
        "id": "3ope1qgRWdo3"
      },
      "source": [
        "#Diagnosis --> Procedure"
      ]
    },
    {
      "cell_type": "code",
      "execution_count": null,
      "metadata": {
        "id": "XyclO-CtWse4"
      },
      "outputs": [],
      "source": [
        "# Load diagnosis and procedure data\n",
        "procedures = pd.read_csv(\"procedures_icd.csv\", usecols=['subject_id', 'hadm_id', 'icd_code'])\n",
        "diagnoses = pd.read_csv(\"diagnoses_icd.csv\", usecols=['subject_id', 'hadm_id', 'icd_code'])\n",
        "\n",
        "# Convert codes to strings for easier processing\n",
        "diagnoses['ICD9_CODE'] = 'DX_' + diagnoses['icd_code'].astype(str)\n",
        "procedures['ICD9_CODE'] = 'PR_' + procedures['icd_code'].astype(str)"
      ]
    },
    {
      "cell_type": "code",
      "execution_count": null,
      "metadata": {
        "colab": {
          "base_uri": "https://localhost:8080/"
        },
        "id": "gg4_0zxGXNcv",
        "outputId": "f17d4ae2-6f80-4cb4-b354-f8c4bd462f6d"
      },
      "outputs": [
        {
          "name": "stdout",
          "output_type": "stream",
          "text": [
            "      hadm_id  \\\n",
            "0  20000045.0   \n",
            "1  20000069.0   \n",
            "2  20000102.0   \n",
            "3  20000235.0   \n",
            "4  20000239.0   \n",
            "\n",
            "                                                                                                           icd_code_x  \\\n",
            "0         [A419, N390, C7951, C787, K56699, C779, K5100, B9620, K1230, D630, C679, E8339, Z87891, Z8616, G893, D6481]   \n",
            "1                                                                                                 [O701, Z370, Z3A37]   \n",
            "2                                                                                                 [64421, V235, V270]   \n",
            "3  [5722, 42833, 5724, 5856, 6826, 1122, 5715, 3970, 4280, 2841, 45621, 5723, V4511, 45981, 42731, V5861, 2449, 2749]   \n",
            "4              [I120, N186, I5022, I69354, E1140, Z992, F329, E785, I447, N400, K219, Z794, E875, I25119, N289, D649]   \n",
            "\n",
            "                 icd_code_y  \\\n",
            "0                 [3E0436Z]   \n",
            "1        [0KQM0ZZ, 10E0XZZ]   \n",
            "2              [7359, 7309]   \n",
            "3  [3723, 8856, 4523, 3995]   \n",
            "4                 [5A1D60Z]   \n",
            "\n",
            "                                                                                                                                        Items  \n",
            "0                        [A419, N390, C7951, C787, K56699, C779, K5100, B9620, K1230, D630, C679, E8339, Z87891, Z8616, G893, D6481, 3E0436Z]  \n",
            "1                                                                                                       [O701, Z370, Z3A37, 0KQM0ZZ, 10E0XZZ]  \n",
            "2                                                                                                             [64421, V235, V270, 7359, 7309]  \n",
            "3  [5722, 42833, 5724, 5856, 6826, 1122, 5715, 3970, 4280, 2841, 45621, 5723, V4511, 45981, 42731, V5861, 2449, 2749, 3723, 8856, 4523, 3995]  \n",
            "4                             [I120, N186, I5022, I69354, E1140, Z992, F329, E785, I447, N400, K219, Z794, E875, I25119, N289, D649, 5A1D60Z]  \n"
          ]
        }
      ],
      "source": [
        "# Group diagnoses by HADM_ID\n",
        "diagnosis_grouped = diagnoses.groupby('hadm_id')['icd_code'].apply(list).reset_index()\n",
        "\n",
        "# Group procedures by HADM_ID\n",
        "procedure_grouped = procedures.groupby('hadm_id')['icd_code'].apply(list).reset_index()\n",
        "\n",
        "# Merge both on HADM_ID\n",
        "diagnosis_procedure_grouped = pd.merge(diagnosis_grouped, procedure_grouped, on='hadm_id', how='inner')\n",
        "\n",
        "# Combine diagnoses and procedures into a single transaction\n",
        "diagnosis_procedure_grouped['Items'] = diagnosis_procedure_grouped['icd_code_x'] + diagnosis_procedure_grouped['icd_code_y']\n",
        "print(diagnosis_procedure_grouped.head())\n",
        "diagnosis_procedure_transaction = diagnosis_procedure_grouped[['hadm_id', 'Items']]\n"
      ]
    },
    {
      "cell_type": "code",
      "execution_count": null,
      "metadata": {
        "colab": {
          "base_uri": "https://localhost:8080/"
        },
        "id": "SFMlfFjDXuEG",
        "outputId": "2acf0887-cf48-4f88-f631-ce0636d299d8"
      },
      "outputs": [
        {
          "name": "stdout",
          "output_type": "stream",
          "text": [
            "           hadm_id                                              Items\n",
            "0       20000045.0  [A419, N390, C7951, C787, K56699, C779, K5100,...\n",
            "1       20000069.0              [O701, Z370, Z3A37, 0KQM0ZZ, 10E0XZZ]\n",
            "2       20000102.0                    [64421, V235, V270, 7359, 7309]\n",
            "3       20000235.0  [5722, 42833, 5724, 5856, 6826, 1122, 5715, 39...\n",
            "4       20000239.0  [I120, N186, I5022, I69354, E1140, Z992, F329,...\n",
            "...            ...                                                ...\n",
            "140732  29999415.0                   [55320, V4283, 2449, 5363, 5369]\n",
            "140733  29999444.0  [0389, 5845, 59010, 29680, V4365, 71590, 0088,...\n",
            "140734  29999616.0  [I5021, I240, I4892, I420, I952, I480, I340, F...\n",
            "140735  29999625.0  [I614, T83511A, J9600, I5033, J150, N390, I481...\n",
            "140736  29999693.0  [E6601, Z6842, I10, E785, Z23, K7581, M170, M4...\n",
            "\n",
            "[140737 rows x 2 columns]\n"
          ]
        }
      ],
      "source": [
        "print(diagnosis_procedure_transaction)"
      ]
    },
    {
      "cell_type": "code",
      "execution_count": null,
      "metadata": {
        "id": "pGQLPJifYo9f"
      },
      "outputs": [],
      "source": []
    }
  ],
  "metadata": {
    "colab": {
      "provenance": [],
      "authorship_tag": "ABX9TyPH676qQ0bnCZVyfM5SJjh8",
      "include_colab_link": true
    },
    "kernelspec": {
      "display_name": "Python 3",
      "name": "python3"
    },
    "language_info": {
      "name": "python"
    }
  },
  "nbformat": 4,
  "nbformat_minor": 0
}